{
 "cells": [
  {
   "cell_type": "code",
   "execution_count": 3,
   "id": "e8ce583c",
   "metadata": {},
   "outputs": [
    {
     "name": "stdout",
     "output_type": "stream",
     "text": [
      "Requirement already satisfied: opencv-python in c:\\users\\alexc\\appdata\\local\\programs\\python\\python39\\lib\\site-packages (4.8.1.78)\n",
      "Requirement already satisfied: numpy>=1.17.3 in c:\\users\\alexc\\appdata\\local\\programs\\python\\python39\\lib\\site-packages (from opencv-python) (1.24.4)\n",
      "Note: you may need to restart the kernel to use updated packages.\n"
     ]
    },
    {
     "name": "stderr",
     "output_type": "stream",
     "text": [
      "WARNING: You are using pip version 21.2.2; however, version 23.3.1 is available.\n",
      "You should consider upgrading via the 'c:\\users\\alexc\\appdata\\local\\programs\\python\\python39\\python.exe -m pip install --upgrade pip' command.\n"
     ]
    }
   ],
   "source": [
    "pip install opencv-python"
   ]
  },
  {
   "cell_type": "code",
   "execution_count": 2,
   "id": "4fcb59e0",
   "metadata": {},
   "outputs": [],
   "source": [
    "# importing libraries \n",
    "import cv2 \n",
    "import numpy as np "
   ]
  },
  {
   "cell_type": "code",
   "execution_count": 3,
   "id": "41eb0e0a",
   "metadata": {},
   "outputs": [],
   "source": [
    "image = cv2.imread('myphoto.jpg')"
   ]
  },
  {
   "cell_type": "code",
   "execution_count": 29,
   "id": "776ff86d",
   "metadata": {},
   "outputs": [],
   "source": [
    "def save_picture(name,mypicture):\n",
    "\tcv2.imwrite(name, mypicture)"
   ]
  },
  {
   "cell_type": "code",
   "execution_count": 27,
   "id": "e0c15770",
   "metadata": {},
   "outputs": [],
   "source": [
    "# Apply Gaussian blur with a kernel size of NxN and a standard deviation of M\n",
    "# N: int\n",
    "# M : float (std dev)\n",
    "def blur_picture(N,M):\n",
    "    return cv2.GaussianBlur(image, (N, N), M)\n"
   ]
  },
  {
   "cell_type": "code",
   "execution_count": 30,
   "id": "3c10d22b",
   "metadata": {},
   "outputs": [],
   "source": [
    "blurred_image = blur_picture(7,10.0)\n",
    "# Save the blurred image\n",
    "save_picture('blurred_image.jpg', blurred_image)"
   ]
  },
  {
   "cell_type": "code",
   "execution_count": 35,
   "id": "4f32d12b",
   "metadata": {},
   "outputs": [],
   "source": [
    "def rotate_picture(angle):\n",
    "    '''\n",
    "    angle: int - rotation in degrees\n",
    "    '''\n",
    "    height, width = image.shape[:2]\n",
    "    # Calculate the rotation matrix\n",
    "    rotation_matrix = cv2.getRotationMatrix2D((width / 2, height / 2), angle, 1)\n",
    "    return cv2.warpAffine(image, rotation_matrix, (width, height))"
   ]
  },
  {
   "cell_type": "code",
   "execution_count": 37,
   "id": "722a7ba9",
   "metadata": {},
   "outputs": [],
   "source": [
    "rotated_image = rotate_picture(-30)\n",
    "# Save the rotated image\n",
    "save_picture('rotate_image.jpg', rotated_image)\n"
   ]
  },
  {
   "cell_type": "code",
   "execution_count": 43,
   "id": "29debf27",
   "metadata": {},
   "outputs": [],
   "source": [
    "import numpy as np\n",
    "def translate_picture(tx, ty):\n",
    "    '''\n",
    "    tx: shift in the x-direction\n",
    "    ty: shift in the y-direction\n",
    "    '''\n",
    "    # Get image dimensions\n",
    "    height, width = image.shape[:2]\n",
    "    # Create the translation matrix\n",
    "    translation_matrix = np.float32([[1, 0, tx], [0, 1, ty]])\n",
    "\n",
    "    # Apply the translation to the image\n",
    "    return cv2.warpAffine(image, translation_matrix, (width, height))"
   ]
  },
  {
   "cell_type": "code",
   "execution_count": 45,
   "id": "616907e4",
   "metadata": {},
   "outputs": [],
   "source": [
    "translated_image = translate_picture(500,30)\n",
    "save_picture('translated__image.jpg', translated_image)"
   ]
  },
  {
   "cell_type": "code",
   "execution_count": 77,
   "id": "a339f5f5",
   "metadata": {},
   "outputs": [],
   "source": [
    "def bright_and_contrast_picture(brightness, contrast):\n",
    "    # Apply the brightness and contrast adjustment\n",
    "    return cv2.convertScaleAbs(image, alpha=contrast, beta=brightness)"
   ]
  },
  {
   "cell_type": "code",
   "execution_count": 79,
   "id": "563a1e97",
   "metadata": {},
   "outputs": [],
   "source": [
    "bnc_image =bright_and_contrast_picture(3,2)\n",
    "save_picture('bnc_image.jpg', bnc_image)"
   ]
  },
  {
   "cell_type": "code",
   "execution_count": 89,
   "id": "37fa0377",
   "metadata": {},
   "outputs": [],
   "source": [
    "\n",
    "# Define the color jittering factors\n",
    "brightness_factor = 0.5  # Controls the brightness variation\n",
    "contrast_factor = 1.5    # Controls the contrast variation\n",
    "saturation_factor = 1.2  # Controls the saturation variation\n",
    "\n",
    "# Convert the image to the float32 data type for more precise calculations\n",
    "image = image.astype(np.float32) / 255.0\n",
    "\n",
    "# Apply color jittering\n",
    "image[:, :, 0] *= brightness_factor  # Blue channel\n",
    "image[:, :, 1] *= contrast_factor   # Green channel\n",
    "image[:, :, 2] *= saturation_factor  # Red channel\n",
    "\n",
    "# Clip the values to be in the valid range [0, 1]\n",
    "image = np.clip(image, 0, 1)\n",
    "\n",
    "# Convert back to the uint8 data type for display\n",
    "image = (image * 255).astype(np.uint8)\n",
    "\n",
    "\n",
    "cv2.imshow('Original Image', image)\n",
    "cv2.waitKey(0)\n",
    "cv2.destroyAllWindows()\n"
   ]
  },
  {
   "cell_type": "code",
   "execution_count": 73,
   "id": "e0ff1a57",
   "metadata": {},
   "outputs": [],
   "source": [
    "# Get image dimensions\n",
    "height, width = image.shape[:2]\n",
    "\n",
    "# Define the translation parameters (shift in x and y directions)\n",
    "tx = 100  # shift in the x-direction\n",
    "ty = 200  # shift in the y-direction\n",
    "\n",
    "# Create the translation matrix\n",
    "translation_matrix = np.float32([[1, 0, tx], [0, 1, ty]])\n",
    "\n",
    "# Apply the translation to the image\n",
    "translated_image = cv2.warpAffine(image, translation_matrix, (width, height))\n",
    "\n",
    "# Wrap around any part of the image that goes beyond the original dimensions\n",
    "wrap_around_translation = np.zeros_like(translated_image)\n",
    "\n",
    "wrap_around_translation[:ty, :] = translated_image[height-ty:, :]\n",
    "wrap_around_translation[ty:, :] = translated_image[:height-ty, :]\n",
    "\n",
    "# Wrap around in the x-axis\n",
    "wrap_around_translation[:, :tx] = translated_image[:, width-tx:]\n",
    "wrap_around_translation[:, tx:] = translated_image[:, :width-tx]\n",
    "\n",
    "# Display the original, translated, and wrapped-around images\n",
    "cv2.imshow('Original Image', image)\n",
    "cv2.imshow('Translated Image', translated_image)\n",
    "cv2.imshow('Wrapped-Around Image', wrap_around_translation)\n",
    "cv2.waitKey(0)\n",
    "cv2.destroyAllWindows()\n"
   ]
  },
  {
   "cell_type": "code",
   "execution_count": 66,
   "id": "d85f1529",
   "metadata": {},
   "outputs": [],
   "source": [
    "# Get image dimensions\n",
    "height, width = image.shape[:2]\n",
    "\n",
    "# Define the translation parameters (shift in x and y directions)\n",
    "tx = 200  # shift in the x-direction\n",
    "ty = 1  # shift in the y-direction\n",
    "\n",
    "# Create the translation matrix\n",
    "translation_matrix = np.float32([[1, 0, tx], [0, 1, ty]])\n",
    "\n",
    "# Apply the translation to the image\n",
    "translated_image = cv2.warpAffine(image, translation_matrix, (width, height))\n",
    "\n",
    "# Create a new image without blank space\n",
    "wrapped_image = np.zeros_like(image)\n",
    "\n",
    "# Wrap around in the x-axis without generating blank space\n",
    "if tx > 0:\n",
    "    wrap_around_translation[:, :tx] = translated_image[:, width-tx:]\n",
    "\twrap_around_translation[:, tx:] = translated_image[:, :width-tx]\n",
    "    wrapped_image[:, :width - tx] = translated_image[:, tx:]\n",
    "    wrapped_image[:, width - tx:] = translated_image[:, :tx]\n",
    "else:\n",
    "    wrapped_image[:, -tx:] = translated_image[:, :width + tx]\n",
    "    wrapped_image[:, :-tx] = translated_image[:, -tx:]\n",
    "\n",
    "# Wrap around in the y-axis without generating blank space\n",
    "if ty > 0:\n",
    "    wrapped_image[:height - ty, :] = wrapped_image[ty:, :]\n",
    "    wrapped_image[height - ty:, :] = wrapped_image[:ty, :]\n",
    "else:\n",
    "    wrapped_image[-ty:, :] = wrapped_image[:height + ty, :]\n",
    "    wrapped_image[:-ty, :] = wrapped_image[-ty:, :]\n",
    "\n",
    "# Display the original, translated, and wrapped-around images\n",
    "cv2.imshow('Original Image', image)\n",
    "cv2.imshow('Translated Image', translated_image)\n",
    "cv2.imshow('Wrapped-Around Image', wrapped_image)\n",
    "cv2.waitKey(0)\n",
    "cv2.destroyAllWindows()\n"
   ]
  }
 ],
 "metadata": {
  "kernelspec": {
   "display_name": "Python 3 (ipykernel)",
   "language": "python",
   "name": "python3"
  },
  "language_info": {
   "codemirror_mode": {
    "name": "ipython",
    "version": 3
   },
   "file_extension": ".py",
   "mimetype": "text/x-python",
   "name": "python",
   "nbconvert_exporter": "python",
   "pygments_lexer": "ipython3",
   "version": "3.9.5"
  }
 },
 "nbformat": 4,
 "nbformat_minor": 5
}
